{
  "nbformat": 4,
  "nbformat_minor": 0,
  "metadata": {
    "colab": {
      "name": "fwaf_classification.ipynb",
      "provenance": [],
      "machine_shape": "hm",
      "authorship_tag": "ABX9TyOVqHohuxZe6EYH0R/4ZA6H",
      "include_colab_link": true
    },
    "kernelspec": {
      "name": "python3",
      "display_name": "Python 3"
    },
    "language_info": {
      "name": "python"
    },
    "accelerator": "GPU",
    "gpuClass": "standard"
  },
  "cells": [
    {
      "cell_type": "markdown",
      "metadata": {
        "id": "view-in-github",
        "colab_type": "text"
      },
      "source": [
        "<a href=\"https://colab.research.google.com/github/dcpatton/cybersecurity_data_science/blob/main/fwaf_classification.ipynb\" target=\"_parent\"><img src=\"https://colab.research.google.com/assets/colab-badge.svg\" alt=\"Open In Colab\"/></a>"
      ]
    },
    {
      "cell_type": "markdown",
      "source": [
        "# Objective\n",
        "\n",
        "Using data from https://github.com/faizann24/Fwaf-Machine-Learning-driven-Web-Application-Firewall , which is composed of bad URL queries and good URL queries, we will make a binary classification prediction of them."
      ],
      "metadata": {
        "id": "BaGpdyd3CWEg"
      }
    },
    {
      "cell_type": "code",
      "execution_count": 1,
      "metadata": {
        "colab": {
          "base_uri": "https://localhost:8080/",
          "height": 35
        },
        "id": "m-XUmllpKwQt",
        "outputId": "563f2527-9bd6-4882-ca46-21c78544e0ab"
      },
      "outputs": [
        {
          "output_type": "execute_result",
          "data": {
            "text/plain": [
              "'2.8.2'"
            ],
            "application/vnd.google.colaboratory.intrinsic+json": {
              "type": "string"
            }
          },
          "metadata": {},
          "execution_count": 1
        }
      ],
      "source": [
        "import tensorflow as tf\n",
        "import random\n",
        "\n",
        "seed = 53\n",
        "random.seed(seed)\n",
        "tf.random.set_seed(seed)\n",
        "tf.__version__"
      ]
    },
    {
      "cell_type": "code",
      "source": [
        "# retrieve the data\n",
        "!curl 'https://raw.githubusercontent.com/faizann24/Fwaf-Machine-Learning-driven-Web-Application-Firewall/master/badqueries.txt' -o bad_queries.txt\n",
        "!curl 'https://raw.githubusercontent.com/faizann24/Fwaf-Machine-Learning-driven-Web-Application-Firewall/master/goodqueries.txt' -o good_queries.txt"
      ],
      "metadata": {
        "colab": {
          "base_uri": "https://localhost:8080/"
        },
        "id": "6VhYbLcQLGjL",
        "outputId": "e09467a1-cea0-453a-abaf-9c1f3f5d8a4c"
      },
      "execution_count": 2,
      "outputs": [
        {
          "output_type": "stream",
          "name": "stdout",
          "text": [
            "  % Total    % Received % Xferd  Average Speed   Time    Time     Time  Current\n",
            "                                 Dload  Upload   Total   Spent    Left  Speed\n",
            "100 3295k  100 3295k    0     0  2513k      0  0:00:01  0:00:01 --:--:-- 2512k\n",
            "  % Total    % Received % Xferd  Average Speed   Time    Time     Time  Current\n",
            "                                 Dload  Upload   Total   Spent    Left  Speed\n",
            "100 22.9M  100 22.9M    0     0  10.8M      0  0:00:02  0:00:02 --:--:-- 10.8M\n"
          ]
        }
      ]
    },
    {
      "cell_type": "code",
      "source": [
        "bad_queries = []\n",
        "lines = []\n",
        "with open('bad_queries.txt') as f:\n",
        "    bad_queries = f.readlines()\n",
        "\n",
        "good_queries = []\n",
        "lines = []\n",
        "with open('good_queries.txt') as f:\n",
        "    good_queries = f.readlines()"
      ],
      "metadata": {
        "id": "SYUQ1vpmLGlw"
      },
      "execution_count": 3,
      "outputs": []
    },
    {
      "cell_type": "code",
      "source": [
        "len(bad_queries), len(good_queries)"
      ],
      "metadata": {
        "colab": {
          "base_uri": "https://localhost:8080/"
        },
        "id": "UZGQ8rctLGnv",
        "outputId": "d6790603-72c5-40b8-b4a4-3ee6af294c88"
      },
      "execution_count": 4,
      "outputs": [
        {
          "output_type": "execute_result",
          "data": {
            "text/plain": [
              "(48126, 1294531)"
            ]
          },
          "metadata": {},
          "execution_count": 4
        }
      ]
    },
    {
      "cell_type": "code",
      "source": [
        "import urllib.parse\n",
        "def remove_quotes(l1):\n",
        "  result = []\n",
        "  for s in l1:\n",
        "    result.append(urllib.parse.unquote_plus(s))\n",
        "  return result\n",
        "bad_queries = remove_quotes(bad_queries)\n",
        "good_queries = remove_quotes(good_queries)"
      ],
      "metadata": {
        "id": "8113Img2NNQq"
      },
      "execution_count": 5,
      "outputs": []
    },
    {
      "cell_type": "code",
      "source": [
        "import pandas as pd\n",
        "text = bad_queries + good_queries\n",
        "y_bad = [1 for i in range(0, len(bad_queries))]\n",
        "y_good = [0 for i in range(0, len(good_queries))]\n",
        "y = y_bad + y_good\n",
        "data = pd.DataFrame(text, columns=['url'])\n",
        "data['target'] = y\n",
        "data.info()"
      ],
      "metadata": {
        "colab": {
          "base_uri": "https://localhost:8080/"
        },
        "id": "VnRhohYTNNTf",
        "outputId": "b2ceb5d8-075e-4499-9b2a-2f1737982316"
      },
      "execution_count": 6,
      "outputs": [
        {
          "output_type": "stream",
          "name": "stdout",
          "text": [
            "<class 'pandas.core.frame.DataFrame'>\n",
            "RangeIndex: 1342657 entries, 0 to 1342656\n",
            "Data columns (total 2 columns):\n",
            " #   Column  Non-Null Count    Dtype \n",
            "---  ------  --------------    ----- \n",
            " 0   url     1342657 non-null  object\n",
            " 1   target  1342657 non-null  int64 \n",
            "dtypes: int64(1), object(1)\n",
            "memory usage: 20.5+ MB\n"
          ]
        }
      ]
    },
    {
      "cell_type": "code",
      "source": [
        "# Note the unbalanced distribution\n",
        "data.target.value_counts()"
      ],
      "metadata": {
        "colab": {
          "base_uri": "https://localhost:8080/"
        },
        "id": "p3j1YjUXP7BH",
        "outputId": "6fe2966e-cbcc-484d-f923-4e857bcb2e76"
      },
      "execution_count": 7,
      "outputs": [
        {
          "output_type": "execute_result",
          "data": {
            "text/plain": [
              "0    1294531\n",
              "1      48126\n",
              "Name: target, dtype: int64"
            ]
          },
          "metadata": {},
          "execution_count": 7
        }
      ]
    },
    {
      "cell_type": "code",
      "source": [
        "total = 1342657 \n",
        "neg = 1294531\n",
        "pos = 48126\n",
        "weight_for_0 = (1 / neg) * (total / 2.0)\n",
        "weight_for_1 = (1 / pos) * (total / 2.0)\n",
        "\n",
        "class_weight = {0: weight_for_0, 1: weight_for_1}\n",
        "\n",
        "print('Weight for class 0: {:.2f}'.format(weight_for_0))\n",
        "print('Weight for class 1: {:.2f}'.format(weight_for_1))"
      ],
      "metadata": {
        "colab": {
          "base_uri": "https://localhost:8080/"
        },
        "id": "rLg60XuBGOlL",
        "outputId": "b8d8d35d-a2f6-41ad-cc38-492efd56ea17"
      },
      "execution_count": 8,
      "outputs": [
        {
          "output_type": "stream",
          "name": "stdout",
          "text": [
            "Weight for class 0: 0.52\n",
            "Weight for class 1: 13.95\n"
          ]
        }
      ]
    },
    {
      "cell_type": "code",
      "source": [
        "# shuffle the data\n",
        "data = data.sample(frac=1).reset_index(drop=True)"
      ],
      "metadata": {
        "id": "qnBUVgojVwrk"
      },
      "execution_count": 9,
      "outputs": []
    },
    {
      "cell_type": "code",
      "source": [
        "raw_ds = tf.data.Dataset.from_tensor_slices((data.url.values, data.target.values))"
      ],
      "metadata": {
        "id": "PqMguEFNP7Dx"
      },
      "execution_count": 10,
      "outputs": []
    },
    {
      "cell_type": "code",
      "source": [
        "for url, target in raw_ds.take(1):\n",
        "  print(url)\n",
        "  print(target)"
      ],
      "metadata": {
        "colab": {
          "base_uri": "https://localhost:8080/"
        },
        "id": "dsQvptqMNNWY",
        "outputId": "6ec63d00-58f9-4a0e-850d-42868dcd1521"
      },
      "execution_count": 11,
      "outputs": [
        {
          "output_type": "stream",
          "name": "stdout",
          "text": [
            "tf.Tensor(b'/049831/\\n', shape=(), dtype=string)\n",
            "tf.Tensor(0, shape=(), dtype=int64)\n"
          ]
        }
      ]
    },
    {
      "cell_type": "code",
      "source": [
        "size = raw_ds.cardinality().numpy()\n",
        "train_size = int(0.8 * size)\n",
        "val_size = int(0.1 * size)\n",
        "test_size = int(0.1 * size)\n",
        "\n",
        "train_ds = raw_ds.take(train_size)\n",
        "test_ds = raw_ds.skip(train_size)\n",
        "val_ds = test_ds.take(val_size)\n",
        "test_ds = test_ds.skip(val_size)\n",
        "\n",
        "train_size, val_size, test_size"
      ],
      "metadata": {
        "colab": {
          "base_uri": "https://localhost:8080/"
        },
        "id": "m7OWTtrYNNY-",
        "outputId": "3b46aecd-5529-4363-8a02-ebebd820c5ac"
      },
      "execution_count": 12,
      "outputs": [
        {
          "output_type": "execute_result",
          "data": {
            "text/plain": [
              "(1074125, 134265, 134265)"
            ]
          },
          "metadata": {},
          "execution_count": 12
        }
      ]
    },
    {
      "cell_type": "code",
      "source": [
        "batch_size = 2048\n",
        "train_ds = train_ds.batch(batch_size)\n",
        "val_ds = val_ds.batch(batch_size)\n",
        "test_ds = test_ds.batch(batch_size)"
      ],
      "metadata": {
        "id": "GxPhJaNeW2O_"
      },
      "execution_count": 13,
      "outputs": []
    },
    {
      "cell_type": "code",
      "source": [
        "def custom_standardization(input_data):\n",
        "  lowercase = tf.strings.lower(input_data)\n",
        "  # stripped_html = tf.strings.regex_replace(lowercase, '<br />', ' ')\n",
        "  # return tf.strings.regex_replace(stripped_html,\n",
        "  #                                 '[%s]' % re.escape(string.punctuation),\n",
        "  #                                 '')\n",
        "  return lowercase"
      ],
      "metadata": {
        "id": "1UpMJcWejpO3"
      },
      "execution_count": 14,
      "outputs": []
    },
    {
      "cell_type": "code",
      "source": [
        "max_length = data.url.str.len().max()\n",
        "max_length"
      ],
      "metadata": {
        "colab": {
          "base_uri": "https://localhost:8080/"
        },
        "id": "0MCP9MqxUOJf",
        "outputId": "9467f3f1-1ca3-44bd-bd3c-e9ff1d66577f"
      },
      "execution_count": 15,
      "outputs": [
        {
          "output_type": "execute_result",
          "data": {
            "text/plain": [
              "3063"
            ]
          },
          "metadata": {},
          "execution_count": 15
        }
      ]
    },
    {
      "cell_type": "code",
      "source": [
        "max_features = 10000\n",
        "sequence_length = 500\n",
        "type(sequence_length)\n",
        "vectorize_layer = tf.keras.layers.TextVectorization(standardize=custom_standardization,\n",
        "                                                    max_tokens=max_features, \n",
        "                                                    output_sequence_length=sequence_length)"
      ],
      "metadata": {
        "id": "jcMlSBSaWEBL"
      },
      "execution_count": 16,
      "outputs": []
    },
    {
      "cell_type": "code",
      "source": [
        "train_text = train_ds.map(lambda x, y: x)\n",
        "vectorize_layer.adapt(train_text)"
      ],
      "metadata": {
        "id": "MTfhvChVWEEV"
      },
      "execution_count": 17,
      "outputs": []
    },
    {
      "cell_type": "code",
      "source": [
        "def vectorize_text(text, label):\n",
        "  text = tf.expand_dims(text, -1)\n",
        "  return vectorize_layer(text), label"
      ],
      "metadata": {
        "id": "ncviy-S9WEHD"
      },
      "execution_count": 18,
      "outputs": []
    },
    {
      "cell_type": "code",
      "source": [
        "train_ds = train_ds.map(vectorize_text)\n",
        "val_ds = val_ds.map(vectorize_text)\n",
        "test_ds = test_ds.map(vectorize_text)"
      ],
      "metadata": {
        "id": "zVsL9vJGWjOV"
      },
      "execution_count": 19,
      "outputs": []
    },
    {
      "cell_type": "code",
      "source": [
        "train_ds = train_ds.shuffle(1024).prefetch(tf.data.AUTOTUNE)\n",
        "val_ds = val_ds.cache().prefetch(tf.data.AUTOTUNE)\n",
        "test_ds = test_ds.cache().prefetch(tf.data.AUTOTUNE)"
      ],
      "metadata": {
        "id": "9SUOXCH3Y_ii"
      },
      "execution_count": 20,
      "outputs": []
    },
    {
      "cell_type": "markdown",
      "source": [
        "## Logistic Regression"
      ],
      "metadata": {
        "id": "zK0UMQpU_uyA"
      }
    },
    {
      "cell_type": "code",
      "source": [
        "# tf.keras.backend.clear_session()\n",
        "\n",
        "# inp = tf.keras.Input(shape=(sequence_length, ))\n",
        "# out = tf.keras.layers.Dense(1, activation='sigmoid')(inp)\n",
        "\n",
        "# model = tf.keras.Model(inp, out)\n",
        "# model.summary()"
      ],
      "metadata": {
        "id": "zBod9mJn_1Lw"
      },
      "execution_count": 21,
      "outputs": []
    },
    {
      "cell_type": "code",
      "source": [
        "# model.compile(optimizer=tf.keras.optimizers.Adam(learning_rate=1e-3),\n",
        "#               loss='bce', metrics=[tf.keras.metrics.AUC(curve='PR'), tf.keras.metrics.AUC(name='auroc')])\n",
        "# es = tf.keras.callbacks.EarlyStopping(patience=9, verbose=1, restore_best_weights=True)\n",
        "# history = model.fit(train_ds, epochs=500, validation_data=val_ds, verbose=2,\n",
        "#                     class_weight=class_weight, callbacks=[es])"
      ],
      "metadata": {
        "id": "DKm9eJrY_0_G"
      },
      "execution_count": 22,
      "outputs": []
    },
    {
      "cell_type": "code",
      "source": [
        "# model.evaluate(test_ds)"
      ],
      "metadata": {
        "id": "bMs0Ls7sACug"
      },
      "execution_count": 23,
      "outputs": []
    },
    {
      "cell_type": "markdown",
      "source": [
        "## LSTM"
      ],
      "metadata": {
        "id": "sV99u_88yevy"
      }
    },
    {
      "cell_type": "code",
      "source": [
        "tf.keras.backend.clear_session()\n",
        "\n",
        "inp = tf.keras.Input(shape=(None,))\n",
        "x = tf.keras.layers.Embedding(max_features+1, 64)(inp)\n",
        "x = tf.keras.layers.Bidirectional(tf.keras.layers.LSTM(64))(x)\n",
        "out = tf.keras.layers.Dense(1, activation='sigmoid')(x)\n",
        "\n",
        "model = tf.keras.Model(inp, out)\n",
        "model.summary()"
      ],
      "metadata": {
        "colab": {
          "base_uri": "https://localhost:8080/"
        },
        "id": "GMAOsUB4WjRP",
        "outputId": "33d14255-b626-4448-dffd-03274fad19ad"
      },
      "execution_count": 24,
      "outputs": [
        {
          "output_type": "stream",
          "name": "stdout",
          "text": [
            "Model: \"model\"\n",
            "_________________________________________________________________\n",
            " Layer (type)                Output Shape              Param #   \n",
            "=================================================================\n",
            " input_1 (InputLayer)        [(None, None)]            0         \n",
            "                                                                 \n",
            " embedding (Embedding)       (None, None, 64)          640064    \n",
            "                                                                 \n",
            " bidirectional (Bidirectiona  (None, 128)              66048     \n",
            " l)                                                              \n",
            "                                                                 \n",
            " dense (Dense)               (None, 1)                 129       \n",
            "                                                                 \n",
            "=================================================================\n",
            "Total params: 706,241\n",
            "Trainable params: 706,241\n",
            "Non-trainable params: 0\n",
            "_________________________________________________________________\n"
          ]
        }
      ]
    },
    {
      "cell_type": "code",
      "source": [
        "model.compile(optimizer=tf.keras.optimizers.Adam(learning_rate=1e-4),\n",
        "              loss=tf.keras.losses.BinaryFocalCrossentropy(),\n",
        "              metrics=[tf.keras.metrics.AUC(curve='PR')])\n",
        "es = tf.keras.callbacks.EarlyStopping(patience=19, verbose=1, restore_best_weights=True)\n",
        "history = model.fit(train_ds, epochs=500, validation_data=val_ds, verbose=2,\n",
        "                    class_weight=class_weight, callbacks=[es])"
      ],
      "metadata": {
        "colab": {
          "base_uri": "https://localhost:8080/"
        },
        "id": "jZe3Hr7Ca1mq",
        "outputId": "19d3f175-cc62-4d78-e4ca-dd2849b7d628"
      },
      "execution_count": 25,
      "outputs": [
        {
          "output_type": "stream",
          "name": "stdout",
          "text": [
            "Epoch 1/500\n",
            "525/525 - 152s - loss: 0.1575 - auc: 0.2459 - val_loss: 0.1328 - val_auc: 0.3354 - 152s/epoch - 290ms/step\n",
            "Epoch 2/500\n",
            "525/525 - 142s - loss: 0.1398 - auc: 0.4074 - val_loss: 0.1428 - val_auc: 0.4286 - 142s/epoch - 270ms/step\n",
            "Epoch 3/500\n",
            "525/525 - 141s - loss: 0.1344 - auc: 0.4512 - val_loss: 0.1260 - val_auc: 0.4475 - 141s/epoch - 269ms/step\n",
            "Epoch 4/500\n",
            "525/525 - 141s - loss: 0.1323 - auc: 0.4639 - val_loss: 0.1220 - val_auc: 0.4537 - 141s/epoch - 269ms/step\n",
            "Epoch 5/500\n",
            "525/525 - 141s - loss: 0.1312 - auc: 0.4691 - val_loss: 0.1333 - val_auc: 0.4568 - 141s/epoch - 269ms/step\n",
            "Epoch 6/500\n",
            "525/525 - 141s - loss: 0.1304 - auc: 0.4725 - val_loss: 0.1327 - val_auc: 0.4584 - 141s/epoch - 269ms/step\n",
            "Epoch 7/500\n",
            "525/525 - 141s - loss: 0.1300 - auc: 0.4735 - val_loss: 0.1106 - val_auc: 0.4596 - 141s/epoch - 269ms/step\n",
            "Epoch 8/500\n",
            "525/525 - 141s - loss: 0.1296 - auc: 0.4744 - val_loss: 0.1232 - val_auc: 0.4600 - 141s/epoch - 269ms/step\n",
            "Epoch 9/500\n",
            "525/525 - 141s - loss: 0.1293 - auc: 0.4754 - val_loss: 0.1200 - val_auc: 0.4604 - 141s/epoch - 269ms/step\n",
            "Epoch 10/500\n",
            "525/525 - 141s - loss: 0.1292 - auc: 0.4759 - val_loss: 0.1231 - val_auc: 0.4608 - 141s/epoch - 269ms/step\n",
            "Epoch 11/500\n",
            "525/525 - 141s - loss: 0.1290 - auc: 0.4760 - val_loss: 0.1243 - val_auc: 0.4611 - 141s/epoch - 269ms/step\n",
            "Epoch 12/500\n",
            "525/525 - 141s - loss: 0.1289 - auc: 0.4772 - val_loss: 0.1371 - val_auc: 0.4614 - 141s/epoch - 269ms/step\n",
            "Epoch 13/500\n",
            "525/525 - 141s - loss: 0.1288 - auc: 0.4767 - val_loss: 0.1287 - val_auc: 0.4616 - 141s/epoch - 269ms/step\n",
            "Epoch 14/500\n",
            "525/525 - 141s - loss: 0.1287 - auc: 0.4770 - val_loss: 0.1421 - val_auc: 0.4614 - 141s/epoch - 269ms/step\n",
            "Epoch 15/500\n",
            "525/525 - 141s - loss: 0.1289 - auc: 0.4766 - val_loss: 0.1244 - val_auc: 0.4616 - 141s/epoch - 269ms/step\n",
            "Epoch 16/500\n",
            "525/525 - 141s - loss: 0.1286 - auc: 0.4774 - val_loss: 0.1129 - val_auc: 0.4617 - 141s/epoch - 269ms/step\n",
            "Epoch 17/500\n",
            "525/525 - 141s - loss: 0.1286 - auc: 0.4769 - val_loss: 0.1169 - val_auc: 0.4618 - 141s/epoch - 269ms/step\n",
            "Epoch 18/500\n",
            "525/525 - 141s - loss: 0.1285 - auc: 0.4774 - val_loss: 0.1333 - val_auc: 0.4618 - 141s/epoch - 269ms/step\n",
            "Epoch 19/500\n",
            "525/525 - 141s - loss: 0.1285 - auc: 0.4773 - val_loss: 0.1222 - val_auc: 0.4619 - 141s/epoch - 269ms/step\n",
            "Epoch 20/500\n",
            "525/525 - 141s - loss: 0.1284 - auc: 0.4776 - val_loss: 0.1197 - val_auc: 0.4619 - 141s/epoch - 269ms/step\n",
            "Epoch 21/500\n",
            "525/525 - 141s - loss: 0.1285 - auc: 0.4774 - val_loss: 0.1159 - val_auc: 0.4619 - 141s/epoch - 269ms/step\n",
            "Epoch 22/500\n",
            "525/525 - 141s - loss: 0.1284 - auc: 0.4774 - val_loss: 0.1205 - val_auc: 0.4617 - 141s/epoch - 269ms/step\n",
            "Epoch 23/500\n",
            "525/525 - 141s - loss: 0.1284 - auc: 0.4776 - val_loss: 0.1300 - val_auc: 0.4617 - 141s/epoch - 269ms/step\n",
            "Epoch 24/500\n",
            "525/525 - 141s - loss: 0.1284 - auc: 0.4774 - val_loss: 0.1222 - val_auc: 0.4619 - 141s/epoch - 269ms/step\n",
            "Epoch 25/500\n",
            "525/525 - 141s - loss: 0.1283 - auc: 0.4777 - val_loss: 0.1220 - val_auc: 0.4620 - 141s/epoch - 269ms/step\n",
            "Epoch 26/500\n",
            "Restoring model weights from the end of the best epoch: 7.\n",
            "525/525 - 141s - loss: 0.1283 - auc: 0.4776 - val_loss: 0.1213 - val_auc: 0.4618 - 141s/epoch - 269ms/step\n",
            "Epoch 26: early stopping\n"
          ]
        }
      ]
    },
    {
      "cell_type": "code",
      "source": [
        "import matplotlib.pyplot as plt\n",
        "import seaborn as sns\n",
        "\n",
        "history = history.history\n",
        "\n",
        "fig, (ax1, ax2) = plt.subplots(2, 1, sharex='col', figsize=(20, 14))\n",
        "\n",
        "ax1.plot(history['loss'], label='Train loss')\n",
        "ax1.plot(history['val_loss'], label='Validation loss')\n",
        "ax1.legend(loc='best')\n",
        "ax1.set_title('Loss')\n",
        "\n",
        "ax2.plot(history['auc'], label='Training')\n",
        "ax2.plot(history['val_auc'], label='Validation')\n",
        "ax2.legend(loc='best')\n",
        "ax2.set_title('AUC')\n",
        "\n",
        "plt.xlabel('Epochs')\n",
        "sns.despine()\n",
        "plt.show()"
      ],
      "metadata": {
        "colab": {
          "base_uri": "https://localhost:8080/",
          "height": 839
        },
        "id": "iPIFAgv4kOBE",
        "outputId": "a3ddfd32-d524-4f86-f0fa-234a4025213d"
      },
      "execution_count": 26,
      "outputs": [
        {
          "output_type": "display_data",
          "data": {
            "text/plain": [
              "<Figure size 1440x1008 with 2 Axes>"
            ],
            "image/png": "[encoded data removed]"
          },
          "metadata": {
            "needs_background": "light"
          }
        }
      ]
    },
    {
      "cell_type": "code",
      "source": [
        "model.evaluate(test_ds)"
      ],
      "metadata": {
        "colab": {
          "base_uri": "https://localhost:8080/"
        },
        "id": "OB7azZNZa2Du",
        "outputId": "c9615327-647f-4ad6-f190-544ad14c277d"
      },
      "execution_count": 27,
      "outputs": [
        {
          "output_type": "stream",
          "name": "stdout",
          "text": [
            "66/66 [==============================] - 6s 74ms/step - loss: 0.1104 - auc: 0.4769\n"
          ]
        },
        {
          "output_type": "execute_result",
          "data": {
            "text/plain": [
              "[0.11043694615364075, 0.4769119918346405]"
            ]
          },
          "metadata": {},
          "execution_count": 27
        }
      ]
    },
    {
      "cell_type": "markdown",
      "source": [
        "# Results\n",
        "The final model gives the best result. Hyperparameter tuning could probably help as well as increasing the sequence_length in the TextVectorization.\n",
        "\n",
        "* baseline logistic regression      : loss: 0.1552 - auc: 0.1489\n",
        "* LR with class_weight              : loss: 0.6415 - auc: 0.1535\n",
        "* baseline LSTM                     : loss: 0.1547 - auc: 0.0359\n",
        "* custom standardization            : loss: 0.1552 - auc: 0.0361\n",
        "* bidirectional                     : loss: 0.1035 - auc: 0.4643\n",
        "* lstm units=128                    : loss: 0.1036 - auc: 0.4725\n",
        "* class_weight                      : loss: 0.4158 - auc: 0.4793\n",
        "* another lstm layer units=64       : loss: 0.4222 - auc: 0.4588\n",
        "* sequence length = 500             : loss: 0.4237 - auc: 0.4660\n",
        "* BinaryFocalCrossentropy           : **loss: 0.1083 - auc: 0.4796**\n",
        "* lr=1e-4                           : loss: 0.1104 - auc: 0.4769"
      ],
      "metadata": {
        "id": "jT4qqYvkkiej"
      }
    },
    {
      "cell_type": "code",
      "source": [
        ""
      ],
      "metadata": {
        "id": "V0U0AKZ_bdQY"
      },
      "execution_count": 27,
      "outputs": []
    }
  ]
}